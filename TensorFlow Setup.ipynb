{
 "cells": [
  {
   "cell_type": "markdown",
   "metadata": {},
   "source": [
    "## Install Tensorflow using Anaconda"
   ]
  },
  {
   "cell_type": "markdown",
   "metadata": {},
   "source": [
    "Reference: https://www.tensorflow.org/install/install_linux#InstallingAnaconda"
   ]
  },
  {
   "cell_type": "code",
   "execution_count": null,
   "metadata": {
    "collapsed": true
   },
   "outputs": [],
   "source": [
    "### Create a conda environment\n",
    "$ conda create -n tensorflow\n",
    "\n",
    "\n",
    "### To activate environment\n",
    "$ source activate tensorflow-py3\n",
    "\n",
    "\n",
    "### If you are in an environment with Python version 3.4.2, this command will update Python to 3.4.3, which is the latest version in the 3.4 branch:\n",
    "$ conda update python\n",
    "\n",
    "\n",
    "### And this command will upgrade Python to another branch such as 3.5 by installing that version of Python:\n",
    "$ conda install python=3.5\n",
    "\n",
    "\n",
    "### Now install TensorFlow inside your conda environment (Python 3.5 & CPU only):\n",
    "$ pip3 install --ignore-installed --upgrade \\\n",
    " https://storage.googleapis.com/tensorflow/linux/cpu/tensorflow-1.0.0-cp35-cp35m-linux_x86_64.whl\n",
    "\n",
    "#### For different python version and CPU only vs. GPU support.  \n",
    "#### Refer: https://www.tensorflow.org/install/install_linux#TF_PYTHON_URL\n",
    "\n",
    "### To deactivate environment \n",
    "source deactivate tensorflow-py3"
   ]
  },
  {
   "cell_type": "code",
   "execution_count": null,
   "metadata": {
    "collapsed": true
   },
   "outputs": [],
   "source": [
    "### Validate\n",
    "$ python3\n",
    ">>> import tensorflow\n"
   ]
  },
  {
   "cell_type": "code",
   "execution_count": null,
   "metadata": {
    "collapsed": true
   },
   "outputs": [],
   "source": [
    "### If default python version is not 3.5\n",
    "### Install python 3 and pip\n",
    "$ sudo apt-get install python3-pip python3-dev\n",
    "\n",
    "## Use python3 and pip3 if defualt python evn is not 3.5\n",
    "$ pip3\n",
    "$ python3"
   ]
  },
  {
   "cell_type": "code",
   "execution_count": null,
   "metadata": {
    "collapsed": true
   },
   "outputs": [],
   "source": [
    "### Update default python version in conda\n",
    "$ conda update conda\n",
    "$ conda update --all python=3.5\n",
    "\n",
    "### OR \n",
    "### Start by creating a conda environment with python 3.5\n",
    "$ conda create --name tenforflow_py3 python=3.5"
   ]
  },
  {
   "cell_type": "code",
   "execution_count": null,
   "metadata": {
    "collapsed": true
   },
   "outputs": [],
   "source": [
    "### End"
   ]
  }
 ],
 "metadata": {
  "anaconda-cloud": {},
  "kernelspec": {
   "display_name": "Python [conda root]",
   "language": "python",
   "name": "conda-root-py"
  },
  "language_info": {
   "codemirror_mode": {
    "name": "ipython",
    "version": 2
   },
   "file_extension": ".py",
   "mimetype": "text/x-python",
   "name": "python",
   "nbconvert_exporter": "python",
   "pygments_lexer": "ipython2",
   "version": "2.7.12"
  }
 },
 "nbformat": 4,
 "nbformat_minor": 1
}
